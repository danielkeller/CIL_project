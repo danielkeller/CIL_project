{
 "cells": [
  {
   "cell_type": "code",
   "execution_count": 21,
   "metadata": {
    "collapsed": false
   },
   "outputs": [],
   "source": [
    "%matplotlib inline\n",
    "import os\n",
    "import random\n",
    "import sys\n",
    "import time\n",
    "import pickle\n",
    "import numpy as np\n",
    "import scipy.sparse as sp\n",
    "import matplotlib.pyplot as plt"
   ]
  },
  {
   "cell_type": "code",
   "execution_count": 2,
   "metadata": {
    "collapsed": false
   },
   "outputs": [],
   "source": [
    "#Number of users, items\n",
    "M, N = 10000, 1000"
   ]
  },
  {
   "cell_type": "code",
   "execution_count": 3,
   "metadata": {
    "collapsed": false
   },
   "outputs": [],
   "source": [
    "#If parsing was already done once:\n",
    "try:\n",
    "    with open(\"data_train.pickle\", \"rb\") as file:\n",
    "        data, test = pickle.load(file)\n",
    "        \n",
    "#Otherwise, do the parsing:        \n",
    "except FileNotFoundError:\n",
    "    def parse_line(line):\n",
    "        coord, rating = line.split(',')\n",
    "        user, film = coord.split('_')\n",
    "        return (int(user[1:]), int(film[1:]), int(rating))\n",
    "\n",
    "    data = sp.lil_matrix((M, N))\n",
    "    test = sp.lil_matrix((M, N))\n",
    "    with open(\"data_train.csv\") as file:\n",
    "        file.__next__() # skip header\n",
    "        for line in file:\n",
    "            user, film, rating = parse_line(line)\n",
    "            if random.randrange(10) == 0:\n",
    "                test[user-1, film-1] = rating\n",
    "            else:\n",
    "                data[user-1, film-1] = rating\n",
    "\n",
    "    data = data.tocsr()\n",
    "    test = test.tocsr()\n",
    "    with open(\"data_train.pickle\", mode=\"bw\") as file:\n",
    "        pickle.dump((data, test), file)"
   ]
  },
  {
   "cell_type": "code",
   "execution_count": 4,
   "metadata": {
    "collapsed": true
   },
   "outputs": [],
   "source": [
    "def rmse(test, guess):\n",
    "    diffs = test - test.sign().multiply(guess)\n",
    "    return np.sqrt(np.sum(np.square(diffs.data)) / diffs.nnz)"
   ]
  },
  {
   "cell_type": "code",
   "execution_count": 5,
   "metadata": {
    "collapsed": false
   },
   "outputs": [],
   "source": [
    "#The slow version\n",
    "def k_means(data, test, K=10, tol=0.01, centroids=None):\n",
    "    M, N = data.shape\n",
    "    def get_assignments(centroids):\n",
    "        assignments = np.zeros(M, dtype=np.int32)\n",
    "        for user in range(M):\n",
    "            dists = np.linalg.norm(data[user] - data[user].sign().multiply(centroids), axis=1)\n",
    "            assignments[user] = np.argmin(dists)\n",
    "        return assignments\n",
    "    def get_centroids(assignments):\n",
    "        centroids = np.zeros((K, N))\n",
    "        counts = np.zeros((K, N))\n",
    "        for k in range(K):\n",
    "            centroids[k] = data[assignments == k].sum(0)\n",
    "            counts[k] = data[assignments == k].sign().sum(0)\n",
    "        counts[counts == 0] = 1\n",
    "        return centroids / counts\n",
    "    \n",
    "    err = 999\n",
    "    \n",
    "    if centroids is None:\n",
    "        centroids = np.random.rand(K, N) * 6 + 0.5\n",
    "    while True:\n",
    "        assignments = get_assignments(centroids)\n",
    "        centroids = get_centroids(assignments)\n",
    "        newerr = rmse(test, centroids[assignments])\n",
    "        if (err - newerr) / err < tol:\n",
    "            break\n",
    "        err = newerr\n",
    "    return err, centroids, assignments"
   ]
  },
  {
   "cell_type": "code",
   "execution_count": 6,
   "metadata": {
    "collapsed": false
   },
   "outputs": [],
   "source": [
    "#Regular k-means\n",
    "def dense_k_means(sparse_data, test, K=10, tol=0.01, centroids=None):\n",
    "    M, N = sparse_data.shape\n",
    "    data = sparse_data.todense().A\n",
    "    data[data == 0] = sparse_data.sum() / sparse_data.nnz\n",
    "    \n",
    "    def get_assignments(centroids):\n",
    "        assignments = np.zeros(M, dtype=np.int32)\n",
    "        for user in range(M):\n",
    "            dists = np.linalg.norm((data[user] - centroids), axis=1)\n",
    "            assignments[user] = np.argmin(dists)\n",
    "        return assignments\n",
    "    def get_centroids(assignments):\n",
    "        centroids = np.zeros((K, N))\n",
    "        for k in range(K):\n",
    "            centroids[k] = np.sum(data[assignments == k], axis=0)\n",
    "        counts = np.bincount(assignments, minlength=K)\n",
    "        counts[counts == 0] = 1\n",
    "        return centroids / counts[:,np.newaxis]\n",
    "    #def rmse(guess):\n",
    "    #    return np.sqrt(np.sum(np.square(guess - test)*np.sign(test)) / np.sum(np.sign(test)))\n",
    "    \n",
    "    err = 999\n",
    "    \n",
    "    if centroids is None:\n",
    "        centroids = np.random.rand(K, N) * 6 + 0.5\n",
    "    while True:\n",
    "        assignments = get_assignments(centroids)\n",
    "        centroids = get_centroids(assignments)\n",
    "        newerr = rmse(test, centroids[assignments])\n",
    "        if (err - newerr) / err < tol:\n",
    "            break\n",
    "        err = newerr\n",
    "    return err, centroids, assignments"
   ]
  },
  {
   "cell_type": "code",
   "execution_count": 7,
   "metadata": {
    "collapsed": false
   },
   "outputs": [],
   "source": [
    "import pyximport\n",
    "pyximport.install(reload_support=True)\n",
    "import skm"
   ]
  },
  {
   "cell_type": "code",
   "execution_count": 25,
   "metadata": {
    "collapsed": false,
    "scrolled": true
   },
   "outputs": [
    {
     "name": "stdout",
     "output_type": "stream",
     "text": [
      "1.00695268419\n"
     ]
    },
    {
     "data": {
      "image/png": "[encoded data removed]",
      "text/plain": [
       "<matplotlib.figure.Figure at 0x7f316a2673c8>"
      ]
     },
     "metadata": {},
     "output_type": "display_data"
    }
   ],
   "source": [
    "errs = []\n",
    "for k in range(2, 10):\n",
    "    err = min(skm.k_means(data, test, K=k, tol=0.0001)[0] for run in range(6))\n",
    "    errs.append(err)\n",
    "print(min(errs))\n",
    "plt.plot(range(2, 10), errs)\n",
    "plt.show()"
   ]
  },
  {
   "cell_type": "code",
   "execution_count": 22,
   "metadata": {
    "collapsed": false
   },
   "outputs": [
    {
     "name": "stdout",
     "output_type": "stream",
     "text": [
      "1.07329991638\n"
     ]
    },
    {
     "data": {
      "text/plain": [
       "[<matplotlib.lines.Line2D at 0x7f316ee88b70>]"
      ]
     },
     "execution_count": 22,
     "metadata": {},
     "output_type": "execute_result"
    },
    {
     "data": {
      "image/png": "[encoded data removed]",
      "text/plain": [
       "<matplotlib.figure.Figure at 0x7f316a21d898>"
      ]
     },
     "metadata": {},
     "output_type": "display_data"
    }
   ],
   "source": [
    "errs = []\n",
    "for k in range(2, 20):\n",
    "    err = min(dense_k_means(data, test, K=k, tol=0.001)[0] for run in range(4))\n",
    "    errs.append(err)\n",
    "print(min(errs))\n",
    "plt.plot(range(2, 20), errs)"
   ]
  },
  {
   "cell_type": "code",
   "execution_count": 16,
   "metadata": {
    "collapsed": false
   },
   "outputs": [
    {
     "data": {
      "text/plain": [
       "1.0084783185486397"
      ]
     },
     "execution_count": 16,
     "metadata": {},
     "output_type": "execute_result"
    }
   ],
   "source": [
    "err, centroids, assignments = skm.k_means(data, test, K=4, tol=0.0001)\n",
    "err"
   ]
  },
  {
   "cell_type": "code",
   "execution_count": 24,
   "metadata": {
    "collapsed": false,
    "scrolled": true
   },
   "outputs": [
    {
     "name": "stdout",
     "output_type": "stream",
     "text": [
      "1.06065822915\n"
     ]
    },
    {
     "data": {
      "image/png": "[encoded data removed]",
      "text/plain": [
       "<matplotlib.figure.Figure at 0x7f316a262a58>"
      ]
     },
     "metadata": {},
     "output_type": "display_data"
    }
   ],
   "source": [
    "#We cannot factorize the sparse matrix; data1 is a classical form\n",
    "data1 = data.todense()\n",
    "data1[data1 == 0] = 3.66 #overall average rating\n",
    "\n",
    "errs = []\n",
    "U, s, V = np.linalg.svd(np.matrix(data1))\n",
    "for k in range(2, 20):\n",
    "    guess = np.array(U[:,0:k] * np.diag(s[0:k]) * V[0:k,:])\n",
    "    errs.append(rmse(test, guess))\n",
    "data1, U, s, V, guess = None, None, None, None, None   \n",
    "print(min(errs))\n",
    "plt.plot(range(2, 20), errs)"
   ]
  },
  {
   "cell_type": "code",
   "execution_count": 23,
   "metadata": {
    "collapsed": false
   },
   "outputs": [
    {
     "name": "stdout",
     "output_type": "stream",
     "text": [
      "0.99759973944\n"
     ]
    },
    {
     "data": {
      "text/plain": [
       "[<matplotlib.lines.Line2D at 0x7f316ee74ba8>]"
      ]
     },
     "execution_count": 23,
     "metadata": {},
     "output_type": "execute_result"
    },
    {
     "data": {
      "image/png": "[encoded data removed]",
      "text/plain": [
       "<matplotlib.figure.Figure at 0x7f316a254b38>"
      ]
     },
     "metadata": {},
     "output_type": "display_data"
    }
   ],
   "source": [
    "data2 = data.todense()\n",
    "data2 = np.where(data2 != 0, data2, centroids[assignments])\n",
    "errs = []\n",
    "U, s, V = np.linalg.svd(np.matrix(data2))\n",
    "for k in range(2, 30):\n",
    "    guess = np.array(U[:,0:k] * np.diag(s[0:k]) * V[0:k,:])\n",
    "    errs.append(rmse(test, guess))\n",
    "print(min(errs))\n",
    "plt.plot(range(2, 30), errs)"
   ]
  },
  {
   "cell_type": "code",
   "execution_count": null,
   "metadata": {
    "collapsed": true
   },
   "outputs": [],
   "source": []
  },
  {
   "cell_type": "code",
   "execution_count": null,
   "metadata": {
    "collapsed": true
   },
   "outputs": [],
   "source": []
  }
 ],
 "metadata": {
  "kernelspec": {
   "display_name": "Python 3",
   "language": "python",
   "name": "python3"
  },
  "language_info": {
   "codemirror_mode": {
    "name": "ipython",
    "version": 3
   },
   "file_extension": ".py",
   "mimetype": "text/x-python",
   "name": "python",
   "nbconvert_exporter": "python",
   "pygments_lexer": "ipython3",
   "version": "3.5.1"
  }
 },
 "nbformat": 4,
 "nbformat_minor": 0
}
